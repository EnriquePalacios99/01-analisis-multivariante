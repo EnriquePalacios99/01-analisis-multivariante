{
 "cells": [
  {
   "cell_type": "markdown",
   "id": "4e9157e2",
   "metadata": {},
   "source": [
    "# UNIVERSIDAD NACIONAL MAYOR DE SAN MARCOS  \n",
    "**FACULTAD DE CIENCIAS MATEMÁTICAS**  \n",
    "**ESCUELA DE POSGRADO**  \n",
    "**MAESTRÍA EN ESTADÍSTICA MATEMÁTICA**\n",
    "\n",
    "---\n",
    "\n",
    "# **PRÁCTICA CALIFICADA Nº01**\n",
    "\n",
    "**Asignatura:** Seminario de Análisis Multivariante  \n",
    "**Docente:** Kelva Llanos Miranda\n",
    "\n",
    "**Alumno:** Enrique Palacios Andrade  \n",
    "**Código:** 24147015\n",
    "\n",
    "**Fecha de Entrega:**  \n",
    "Viernes 20 de Junio de 2025\n",
    "\n",
    "---\n",
    "\n",
    "## UNIVERSIDAD NACIONAL MAYOR DE SAN MARCOS  \n",
    "**FACULTAD DE CIENCIAS MATEMÁTICAS**  \n",
    "**ESCUELA DE POSGRADO**  \n",
    "**MAESTRÍA EN ESTADÍSTICA MATEMÁTICA**\n",
    "\n",
    "### PRÁCTICA CALIFICADA Nº01\n",
    "\n",
    "**Alumno:** Enrique Palacios\n",
    "\n",
    "---\n",
    "\n",
    "## Indicaciones\n",
    "\n",
    "- El desarrollo de la Práctica Calificada será presentado hasta las 23:59 horas del viernes 20/06 en el Classroom, en la actividad creada como `PC1-SAM-2025.01`.\n",
    "- Si van a usar un software estadístico de su preferencia, presentar el desarrollo (el resultado obtenido) en cada pregunta, así como la interpretación o desarrollo de la prueba de hipótesis (Planteamiento de hipótesis, Estadístico de hipótesis, P-value, Decisión y Conclusión).\n",
    "\n",
    "---\n",
    "\n",
    "## Pregunta 1\n",
    "\n",
    "Una empresa desea evaluar si el tipo de capacitación recibida por sus empleados influye significativamente en su desempeño. Se seleccionó aleatoriamente una muestra de 200 empleados, divididos en tres grupos según el tipo de capacitación recibida:\n",
    "\n",
    "- Grupo 1: Capacitación presencial  \n",
    "- Grupo 2: Capacitación virtual  \n",
    "- Grupo 3: Capacitación mixta (presencial + virtual)\n",
    "\n",
    "A cada empleado se le midieron tres indicadores de desempeño al finalizar el trimestre:\n",
    "\n",
    "- **Y1:** Puntaje en una evaluación de conocimientos técnicos  \n",
    "- **Y2:** Índice de eficiencia en tareas asignadas  \n",
    "- **Y3:** Nivel de cumplimiento de metas trimestrales\n",
    "\n",
    "El objetivo del análisis es determinar si existen diferencias multivariadas significativas entre los tres grupos de capacitación en cuanto al desempeño medido por las tres variables dependientes.\n",
    "\n",
    "**Indicaciones:**\n",
    "\n",
    "- Verifica los supuestos multivariados.\n",
    "- Realiza la prueba MANOVA.\n",
    "- Interpreta los resultados multivariados y univariados (si corresponde).\n",
    "- Concluye sobre el efecto del tipo de capacitación.\n",
    "\n",
    "📂 Los datos se encuentran en el archivo: `DATOS.PC1.SAM.2025.01.xlsx`\n",
    "\n",
    "---\n"
   ]
  },
  {
   "cell_type": "markdown",
   "id": "f27a96c5",
   "metadata": {},
   "source": [
    "\n",
    "# Análisis MANOVA del impacto de la capacitación en el desempeño\n",
    "\n",
    "Este análisis tiene como objetivo determinar si existen **diferencias multivariadas significativas** en el desempeño de los empleados según el tipo de capacitación recibida: presencial, virtual o mixta. Las tres variables dependientes evaluadas son:\n",
    "\n",
    "- **Y1**: Puntaje en evaluación de conocimientos técnicos  \n",
    "- **Y2**: Índice de eficiencia en tareas asignadas  \n",
    "- **Y3**: Nivel de cumplimiento de metas trimestrales"
   ]
  },
  {
   "cell_type": "code",
   "execution_count": 101,
   "id": "d4f45e20",
   "metadata": {},
   "outputs": [
    {
     "name": "stdout",
     "output_type": "stream",
     "text": [
      "Requirement already satisfied: openpyxl in /usr/local/python/3.12.1/lib/python3.12/site-packages (3.1.5)\n",
      "Requirement already satisfied: et-xmlfile in /usr/local/python/3.12.1/lib/python3.12/site-packages (from openpyxl) (2.0.0)\n",
      "Requirement already satisfied: statsmodels in /usr/local/python/3.12.1/lib/python3.12/site-packages (0.14.4)\n",
      "Requirement already satisfied: numpy<3,>=1.22.3 in /home/codespace/.local/lib/python3.12/site-packages (from statsmodels) (2.2.6)\n",
      "Requirement already satisfied: scipy!=1.9.2,>=1.8 in /home/codespace/.local/lib/python3.12/site-packages (from statsmodels) (1.15.3)\n",
      "Requirement already satisfied: pandas!=2.1.0,>=1.4 in /home/codespace/.local/lib/python3.12/site-packages (from statsmodels) (2.2.3)\n",
      "Requirement already satisfied: patsy>=0.5.6 in /usr/local/python/3.12.1/lib/python3.12/site-packages (from statsmodels) (1.0.1)\n",
      "Requirement already satisfied: packaging>=21.3 in /home/codespace/.local/lib/python3.12/site-packages (from statsmodels) (25.0)\n",
      "Requirement already satisfied: python-dateutil>=2.8.2 in /home/codespace/.local/lib/python3.12/site-packages (from pandas!=2.1.0,>=1.4->statsmodels) (2.9.0.post0)\n",
      "Requirement already satisfied: pytz>=2020.1 in /home/codespace/.local/lib/python3.12/site-packages (from pandas!=2.1.0,>=1.4->statsmodels) (2025.2)\n",
      "Requirement already satisfied: tzdata>=2022.7 in /home/codespace/.local/lib/python3.12/site-packages (from pandas!=2.1.0,>=1.4->statsmodels) (2025.2)\n",
      "Requirement already satisfied: six>=1.5 in /home/codespace/.local/lib/python3.12/site-packages (from python-dateutil>=2.8.2->pandas!=2.1.0,>=1.4->statsmodels) (1.17.0)\n",
      "Requirement already satisfied: bioinfokit in /usr/local/python/3.12.1/lib/python3.12/site-packages (2.1.4)\n",
      "Requirement already satisfied: pandas in /home/codespace/.local/lib/python3.12/site-packages (from bioinfokit) (2.2.3)\n",
      "Requirement already satisfied: numpy in /home/codespace/.local/lib/python3.12/site-packages (from bioinfokit) (2.2.6)\n",
      "Requirement already satisfied: matplotlib in /home/codespace/.local/lib/python3.12/site-packages (from bioinfokit) (3.10.3)\n",
      "Requirement already satisfied: scipy in /home/codespace/.local/lib/python3.12/site-packages (from bioinfokit) (1.15.3)\n",
      "Requirement already satisfied: scikit-learn in /home/codespace/.local/lib/python3.12/site-packages (from bioinfokit) (1.6.1)\n",
      "Requirement already satisfied: seaborn in /home/codespace/.local/lib/python3.12/site-packages (from bioinfokit) (0.13.2)\n",
      "Requirement already satisfied: matplotlib-venn in /usr/local/python/3.12.1/lib/python3.12/site-packages (from bioinfokit) (1.1.2)\n",
      "Requirement already satisfied: tabulate in /usr/local/python/3.12.1/lib/python3.12/site-packages (from bioinfokit) (0.9.0)\n",
      "Requirement already satisfied: statsmodels in /usr/local/python/3.12.1/lib/python3.12/site-packages (from bioinfokit) (0.14.4)\n",
      "Requirement already satisfied: textwrap3 in /usr/local/python/3.12.1/lib/python3.12/site-packages (from bioinfokit) (0.9.2)\n",
      "Requirement already satisfied: adjustText in /usr/local/python/3.12.1/lib/python3.12/site-packages (from bioinfokit) (1.3.0)\n",
      "Requirement already satisfied: contourpy>=1.0.1 in /home/codespace/.local/lib/python3.12/site-packages (from matplotlib->bioinfokit) (1.3.2)\n",
      "Requirement already satisfied: cycler>=0.10 in /home/codespace/.local/lib/python3.12/site-packages (from matplotlib->bioinfokit) (0.12.1)\n",
      "Requirement already satisfied: fonttools>=4.22.0 in /home/codespace/.local/lib/python3.12/site-packages (from matplotlib->bioinfokit) (4.58.1)\n",
      "Requirement already satisfied: kiwisolver>=1.3.1 in /home/codespace/.local/lib/python3.12/site-packages (from matplotlib->bioinfokit) (1.4.8)\n",
      "Requirement already satisfied: packaging>=20.0 in /home/codespace/.local/lib/python3.12/site-packages (from matplotlib->bioinfokit) (25.0)\n",
      "Requirement already satisfied: pillow>=8 in /home/codespace/.local/lib/python3.12/site-packages (from matplotlib->bioinfokit) (11.2.1)\n",
      "Requirement already satisfied: pyparsing>=2.3.1 in /home/codespace/.local/lib/python3.12/site-packages (from matplotlib->bioinfokit) (3.2.3)\n",
      "Requirement already satisfied: python-dateutil>=2.7 in /home/codespace/.local/lib/python3.12/site-packages (from matplotlib->bioinfokit) (2.9.0.post0)\n",
      "Requirement already satisfied: six>=1.5 in /home/codespace/.local/lib/python3.12/site-packages (from python-dateutil>=2.7->matplotlib->bioinfokit) (1.17.0)\n",
      "Requirement already satisfied: pytz>=2020.1 in /home/codespace/.local/lib/python3.12/site-packages (from pandas->bioinfokit) (2025.2)\n",
      "Requirement already satisfied: tzdata>=2022.7 in /home/codespace/.local/lib/python3.12/site-packages (from pandas->bioinfokit) (2025.2)\n",
      "Requirement already satisfied: joblib>=1.2.0 in /home/codespace/.local/lib/python3.12/site-packages (from scikit-learn->bioinfokit) (1.5.1)\n",
      "Requirement already satisfied: threadpoolctl>=3.1.0 in /home/codespace/.local/lib/python3.12/site-packages (from scikit-learn->bioinfokit) (3.6.0)\n",
      "Requirement already satisfied: patsy>=0.5.6 in /usr/local/python/3.12.1/lib/python3.12/site-packages (from statsmodels->bioinfokit) (1.0.1)\n",
      "Requirement already satisfied: bioinfokit in /usr/local/python/3.12.1/lib/python3.12/site-packages (2.1.4)\n",
      "Requirement already satisfied: pandas in /home/codespace/.local/lib/python3.12/site-packages (2.2.3)\n",
      "Requirement already satisfied: numpy in /home/codespace/.local/lib/python3.12/site-packages (from bioinfokit) (2.2.6)\n",
      "Requirement already satisfied: matplotlib in /home/codespace/.local/lib/python3.12/site-packages (from bioinfokit) (3.10.3)\n",
      "Requirement already satisfied: scipy in /home/codespace/.local/lib/python3.12/site-packages (from bioinfokit) (1.15.3)\n",
      "Requirement already satisfied: scikit-learn in /home/codespace/.local/lib/python3.12/site-packages (from bioinfokit) (1.6.1)\n",
      "Requirement already satisfied: seaborn in /home/codespace/.local/lib/python3.12/site-packages (from bioinfokit) (0.13.2)\n",
      "Requirement already satisfied: matplotlib-venn in /usr/local/python/3.12.1/lib/python3.12/site-packages (from bioinfokit) (1.1.2)\n",
      "Requirement already satisfied: tabulate in /usr/local/python/3.12.1/lib/python3.12/site-packages (from bioinfokit) (0.9.0)\n",
      "Requirement already satisfied: statsmodels in /usr/local/python/3.12.1/lib/python3.12/site-packages (from bioinfokit) (0.14.4)\n",
      "Requirement already satisfied: textwrap3 in /usr/local/python/3.12.1/lib/python3.12/site-packages (from bioinfokit) (0.9.2)\n",
      "Requirement already satisfied: adjustText in /usr/local/python/3.12.1/lib/python3.12/site-packages (from bioinfokit) (1.3.0)\n",
      "Requirement already satisfied: python-dateutil>=2.8.2 in /home/codespace/.local/lib/python3.12/site-packages (from pandas) (2.9.0.post0)\n",
      "Requirement already satisfied: pytz>=2020.1 in /home/codespace/.local/lib/python3.12/site-packages (from pandas) (2025.2)\n",
      "Requirement already satisfied: tzdata>=2022.7 in /home/codespace/.local/lib/python3.12/site-packages (from pandas) (2025.2)\n",
      "Requirement already satisfied: six>=1.5 in /home/codespace/.local/lib/python3.12/site-packages (from python-dateutil>=2.8.2->pandas) (1.17.0)\n",
      "Requirement already satisfied: contourpy>=1.0.1 in /home/codespace/.local/lib/python3.12/site-packages (from matplotlib->bioinfokit) (1.3.2)\n",
      "Requirement already satisfied: cycler>=0.10 in /home/codespace/.local/lib/python3.12/site-packages (from matplotlib->bioinfokit) (0.12.1)\n",
      "Requirement already satisfied: fonttools>=4.22.0 in /home/codespace/.local/lib/python3.12/site-packages (from matplotlib->bioinfokit) (4.58.1)\n",
      "Requirement already satisfied: kiwisolver>=1.3.1 in /home/codespace/.local/lib/python3.12/site-packages (from matplotlib->bioinfokit) (1.4.8)\n",
      "Requirement already satisfied: packaging>=20.0 in /home/codespace/.local/lib/python3.12/site-packages (from matplotlib->bioinfokit) (25.0)\n",
      "Requirement already satisfied: pillow>=8 in /home/codespace/.local/lib/python3.12/site-packages (from matplotlib->bioinfokit) (11.2.1)\n",
      "Requirement already satisfied: pyparsing>=2.3.1 in /home/codespace/.local/lib/python3.12/site-packages (from matplotlib->bioinfokit) (3.2.3)\n",
      "Requirement already satisfied: joblib>=1.2.0 in /home/codespace/.local/lib/python3.12/site-packages (from scikit-learn->bioinfokit) (1.5.1)\n",
      "Requirement already satisfied: threadpoolctl>=3.1.0 in /home/codespace/.local/lib/python3.12/site-packages (from scikit-learn->bioinfokit) (3.6.0)\n",
      "Requirement already satisfied: patsy>=0.5.6 in /usr/local/python/3.12.1/lib/python3.12/site-packages (from statsmodels->bioinfokit) (1.0.1)\n"
     ]
    }
   ],
   "source": [
    "!pip install openpyxl\n",
    "!pip install statsmodels\n",
    "!pip install bioinfokit\n",
    "!pip install bioinfokit pandas\n",
    "import pandas as pd\n",
    "import pingouin as pg\n",
    "import pandas as pd\n",
    "from scipy.stats import shapiro\n",
    "from sklearn.preprocessing import StandardScaler\n",
    "from statsmodels.multivariate.manova import MANOVA\n",
    "import statsmodels.api as sm\n",
    "from statsmodels.formula.api import ols\n"
   ]
  },
  {
   "cell_type": "code",
   "execution_count": 102,
   "id": "abad2e2c",
   "metadata": {},
   "outputs": [
    {
     "name": "stdout",
     "output_type": "stream",
     "text": [
      "     Grupo          Y1          Y2          Y3\n",
      "0  Grupo 1   445947358   508469571  1000123571\n",
      "1  Grupo 1  4395062626  5283540134  9979697885\n",
      "2  Grupo 1  4456284326  5282615737  9886718434\n",
      "3  Grupo 1  4975704775  5110869527   100260084\n",
      "4  Grupo 1  5752750784  5091350048   101615052\n"
     ]
    }
   ],
   "source": [
    "# Ruta del archivo (ajusta el nombre si es necesario)\n",
    "file_path = 'DATOS.PC1.SAM.2025.01.xlsx'\n",
    "\n",
    "# Leer el archivo Excel\n",
    "df = pd.read_excel(file_path)\n",
    "\n",
    "# Mostrar las primeras filas del DataFrame\n",
    "print(df.head())"
   ]
  },
  {
   "cell_type": "markdown",
   "id": "906dc637",
   "metadata": {},
   "source": [
    "\n",
    "### 1. Verificación de supuestos multivariados\n",
    "\n",
    "### a) **Normalidad univariada aproximada por grupo**\n"
   ]
  },
  {
   "cell_type": "code",
   "execution_count": 103,
   "id": "cfa8014d",
   "metadata": {},
   "outputs": [
    {
     "name": "stdout",
     "output_type": "stream",
     "text": [
      "Y1 - Grupo 1: p-valor Shapiro-Wilk = 0.0000\n",
      "Y1 - Grupo 2: p-valor Shapiro-Wilk = 0.0000\n",
      "Y1 - Grupo 3: p-valor Shapiro-Wilk = 0.0000\n",
      "Y2 - Grupo 1: p-valor Shapiro-Wilk = 0.0000\n",
      "Y2 - Grupo 2: p-valor Shapiro-Wilk = 0.0000\n",
      "Y2 - Grupo 3: p-valor Shapiro-Wilk = 0.0000\n",
      "Y3 - Grupo 1: p-valor Shapiro-Wilk = 0.0000\n",
      "Y3 - Grupo 2: p-valor Shapiro-Wilk = 0.0000\n",
      "Y3 - Grupo 3: p-valor Shapiro-Wilk = 0.0000\n"
     ]
    }
   ],
   "source": [
    "for col in ['Y1', 'Y2', 'Y3']:\n",
    "    for group in df['Grupo'].unique():\n",
    "        data = df[df['Grupo'] == group][col]\n",
    "        stat, p = shapiro(data)\n",
    "        print(f\"{col} - {group}: p-valor Shapiro-Wilk = {p:.4f}\")"
   ]
  },
  {
   "cell_type": "markdown",
   "id": "92dcd944",
   "metadata": {},
   "source": [
    "\n",
    "> Si **p > 0.05**, no se rechaza la normalidad univariada.  \n",
    "> Aunque MANOVA es robusta con n > 30 por grupo, esta prueba ayuda como diagnóstico preliminar.\n",
    "\n"
   ]
  },
  {
   "cell_type": "markdown",
   "id": "46cac808",
   "metadata": {},
   "source": [
    "Los resultados muestran los p-valores de la prueba de Shapiro-Wilk para cada variable (Y1, Y2, Y3) dentro de cada grupo (Grupo 1, Grupo 2, Grupo 3).Un p-valor bajo (típicamente < 0.05) sugiere que la distribución de los datos para esa combinación de variable y grupo no es normal. En este caso, todos los p-valores son 0.0000,lo que indica una clara violación del supuesto de normalidad univariada en todos los grupos y variables."
   ]
  },
  {
   "cell_type": "markdown",
   "id": "282f6b3e",
   "metadata": {},
   "source": [
    "\n",
    "### b) **Homogeneidad de matrices de covarianza: Prueba de Box**\n"
   ]
  },
  {
   "cell_type": "code",
   "execution_count": 104,
   "id": "1518c6ce",
   "metadata": {},
   "outputs": [
    {
     "name": "stdout",
     "output_type": "stream",
     "text": [
      "Resultado de la prueba de Box de igualdad de matrices de covarianza:\n",
      "           Chi2    df           pval  equal_cov\n",
      "box  522.612463  12.0  3.396808e-104      False\n"
     ]
    }
   ],
   "source": [
    "# Load Excel file\n",
    "df = pd.read_excel(\"DATOS.PC1.SAM.2025.01.xlsx\")\n",
    "\n",
    "# Ensure 'Grupo' column is categorical\n",
    "df['Grupo'] = df['Grupo'].astype('category')\n",
    "\n",
    "# Execute Box's M-test correctly\n",
    "resultado_box = pg.box_m(data=df, dvs=['Y1', 'Y2', 'Y3'], group='Grupo')\n",
    "\n",
    "# Display result\n",
    "print(\"Resultado de la prueba de Box de igualdad de matrices de covarianza:\")\n",
    "print(resultado_box)"
   ]
  },
  {
   "cell_type": "markdown",
   "id": "2a5e32ba",
   "metadata": {},
   "source": [
    "> Si **p > 0.05**, se cumple la homogeneidad de covarianzas.\n",
    "\n",
    "---"
   ]
  },
  {
   "cell_type": "markdown",
   "id": "569b53ce",
   "metadata": {},
   "source": [
    "### b) Homogeneidad de matrices de covarianza: Prueba de Box\n",
    "\n",
    "* **Resultado:** La prueba M de Box arrojó un estadístico Chi2 de 522.61, con 12.0 grados de libertad, y un p-valor extremadamente bajo de $$3.396808 \\times 10^{-104}$$. La salida `equal_cov` es `False`.\n",
    "\n",
    "* **Interpretación:** Dado que el p-valor ($$3.396808 \\times 10^{-104}$$) es significativamente menor que el nivel de significancia común ($$\\alpha = 0.05$$ e incluso $0.001$), se **rechaza la hipótesis nula de homogeneidad de las matrices de covarianza**. Esto implica que las matrices de covarianza de las variables dependientes (Y1, Y2, Y3) son significativamente diferentes entre los grupos de capacitación.\n",
    "\n",
    "* **Implicación para MANOVA:** Esta violación del supuesto de homogeneidad de las matrices de covarianza es una consideración importante para la validez de los resultados del MANOVA. Cuando este supuesto no se cumple, el estadístico **Pillai's Trace** es generalmente el más robusto y, por lo tanto, el más recomendado para interpretar los resultados multivariados del MANOVA, ya que es menos sensible a las diferencias en las matrices de covarianza entre los grupos."
   ]
  },
  {
   "cell_type": "markdown",
   "id": "2d3a49e6",
   "metadata": {},
   "source": [
    "\n",
    "### 2. Prueba MANOVA\n",
    "\n",
    "### Estandarización de variables y aplicación de MANOVA"
   ]
  },
  {
   "cell_type": "code",
   "execution_count": 105,
   "id": "b0f9bfb0",
   "metadata": {},
   "outputs": [
    {
     "name": "stdout",
     "output_type": "stream",
     "text": [
      "                  Multivariate linear model\n",
      "=============================================================\n",
      "                                                             \n",
      "-------------------------------------------------------------\n",
      "       Intercept        Value  Num DF  Den DF  F Value Pr > F\n",
      "-------------------------------------------------------------\n",
      "          Wilks' lambda 0.6811 3.0000 193.0000 30.1271 0.0000\n",
      "         Pillai's trace 0.3189 3.0000 193.0000 30.1271 0.0000\n",
      " Hotelling-Lawley trace 0.4683 3.0000 193.0000 30.1271 0.0000\n",
      "    Roy's greatest root 0.4683 3.0000 193.0000 30.1271 0.0000\n",
      "-------------------------------------------------------------\n",
      "                                                             \n",
      "-------------------------------------------------------------\n",
      "         Grupo          Value  Num DF  Den DF  F Value Pr > F\n",
      "-------------------------------------------------------------\n",
      "          Wilks' lambda 0.5225 6.0000 386.0000 24.6665 0.0000\n",
      "         Pillai's trace 0.5143 6.0000 388.0000 22.3861 0.0000\n",
      " Hotelling-Lawley trace 0.8434 6.0000 255.5633 27.0593 0.0000\n",
      "    Roy's greatest root 0.7493 3.0000 194.0000 48.4573 0.0000\n",
      "=============================================================\n",
      "\n"
     ]
    }
   ],
   "source": [
    "df_scaled = df.copy()\n",
    "df_scaled[['Y1_z', 'Y2_z', 'Y3_z']] = StandardScaler().fit_transform(df[['Y1', 'Y2', 'Y3']])\n",
    "\n",
    "manova = MANOVA.from_formula(\"Y1_z + Y2_z + Y3_z ~ Grupo\", data=df_scaled)\n",
    "print(manova.mv_test())"
   ]
  },
  {
   "cell_type": "markdown",
   "id": "e947e017",
   "metadata": {},
   "source": [
    "> Se generan los estadísticos multivariados: Wilks’ Lambda, Pillai’s Trace, Hotelling’s Trace y Roy’s Root.\n"
   ]
  },
  {
   "cell_type": "markdown",
   "id": "479b8a8e",
   "metadata": {},
   "source": [
    "**Interpretación de los Resultados del MANOVA:**\n",
    "\n",
    "El resultado de la prueba MANOVA se presenta en dos secciones principales: el \"Intercept\" y el factor \"Grupo\". La sección 'Intercept' evalúa el efecto del intercepto en el modelo, y aunque sus p-valores son 0.0000 (indicando significancia), no es el foco de la hipótesis de investigación.\n",
    "\n",
    "La sección más relevante es la correspondiente al factor 'Grupo'. Aquí, todos los estadísticos multivariados (Wilks' lambda, Pillai's trace, Hotelling-Lawley trace y Roy's greatest root) muestran un p-valor de 0.0000. Dado que este p-valor es mucho menor que el nivel de significancia común (por ejemplo, $$\\alpha = 0.05$$), se rechaza la hipótesis nula multivariada. Esto significa que existe una diferencia estadísticamente significativa en las medias conjuntas de las variables dependientes (Y1_z, Y2_z, Y3_z) entre al menos dos de los grupos definidos por la variable 'Grupo'. En otras palabras, el tipo de capacitación tiene un efecto significativo en el rendimiento general de los empleados (medido por las variables Y1, Y2 y Y3 combinadas). Es importante recordar los hallazgos de la prueba de Box (heterogeneidad de matrices de covarianza); en presencia de matrices de covarianza desiguales, el Pillai's Trace se considera el estadístico más robusto y conservador. Afortunadamente, en este caso, todos los estadísticos fueron altamente significativos, lo que refuerza la solidez de la conclusión sobre las diferencias multivariadas entre los grupos."
   ]
  },
  {
   "cell_type": "markdown",
   "id": "cfe0883d",
   "metadata": {},
   "source": [
    "\n",
    "### 3. Interpretación de resultados\n",
    "\n",
    "### a) **Multivariado**\n",
    "\n",
    "- **Wilks’ Lambda = 0.5225, p &lt; 0.0001\n",
    "- También significativos: Pillai, Hotelling, Roy\n",
    "\n",
    "> Se rechaza la hipótesis nula: hay diferencias multivariadas significativas entre los grupos de capacitación. Esto significa que el tipo de capacitación tiene un impacto colectivo en el conjunto de variables de desempeño (Y1, Y2, Y3).\n"
   ]
  },
  {
   "cell_type": "markdown",
   "id": "02e1f25c",
   "metadata": {},
   "source": [
    "### b) **Univariado (ANOVA por variable)**"
   ]
  },
  {
   "cell_type": "code",
   "execution_count": 106,
   "id": "bd5f82b9",
   "metadata": {},
   "outputs": [
    {
     "name": "stdout",
     "output_type": "stream",
     "text": [
      "\n",
      "ANOVA para Y1\n",
      "                sum_sq     df          F        PR(>F)\n",
      "Grupo     1.621286e+20    2.0  26.086431  9.136880e-11\n",
      "Residual  6.059677e+20  195.0        NaN           NaN\n",
      "\n",
      "ANOVA para Y2\n",
      "                sum_sq     df          F    PR(>F)\n",
      "Grupo     4.391581e+19    2.0  10.834538  0.000035\n",
      "Residual  3.951983e+20  195.0        NaN       NaN\n",
      "\n",
      "ANOVA para Y3\n",
      "                sum_sq     df         F        PR(>F)\n",
      "Grupo     6.553067e+20    2.0  47.46751  1.599775e-17\n",
      "Residual  1.346024e+21  195.0       NaN           NaN\n"
     ]
    }
   ],
   "source": [
    "for y in ['Y1', 'Y2', 'Y3']:\n",
    "    model = ols(f\"{y} ~ Grupo\", data=df).fit()\n",
    "    anova_table = sm.stats.anova_lm(model, typ=2)\n",
    "    print(f\"\\nANOVA para {y}\")\n",
    "    print(anova_table)"
   ]
  },
  {
   "cell_type": "markdown",
   "id": "10b51f74",
   "metadata": {},
   "source": [
    "**Resultados del ANOVA Univariado:**\n",
    "\n",
    "ANOVA para Y1: F = 26.09, p-valor = $$9.14 \\times 10^{-11}$$\n",
    "ANOVA para Y2: F = 10.83, p-valor = $$0.000035$$\n",
    "ANOVA para Y3: F = 47.47, p-valor = $$1.60 \\times 10^{-17}$$\n",
    "> Todas las variables (Y1, Y2, Y3) muestran p-valores individuales significativamente por debajo de 0.05. Esto indica que cada una de ellas contribuye de manera significativa a las diferencias observadas entre los grupos, lo que complementa el resultado multivariado. En otras palabras, el tipo de capacitación tiene un efecto individual y significativo en el desempeño de cada una de las métricas evaluadas."
   ]
  },
  {
   "cell_type": "markdown",
   "id": "63db4581",
   "metadata": {},
   "source": [
    "\n",
    "\n",
    "\n",
    "\n",
    "\n",
    "## 4. Conclusión final\n",
    "\n",
    "El análisis MANOVA indica un efecto estadísticamente significativo del tipo de capacitación en el desempeño de los empleados, al considerar conjuntamente las variables Y1, Y2 y Y3. Esto confirma que la modalidad de formación impacta el rendimiento general.\n",
    "\n",
    "Los resultados univariados refuerzan esta conclusión, mostrando que las diferencias no solo son colectivas, sino que cada variable de desempeño (Y1, Y2, Y3) también es influenciada significativamente por el tipo de capacitación. Por lo tanto, la modalidad de capacitación (presencial, virtual o mixta) influye de forma significativa y medible en el desempeño organizacional en sus diversas dimensiones.\n",
    "\n",
    "Los hallazgos sugieren enfáticamente la necesidad de evaluar y adaptar los planes de formación a la modalidad que maximice el impacto positivo en las métricas de desempeño. Esto se debe al efecto comprobado del tipo de capacitación en el rendimiento de los empleados.\n",
    "\n",
    "---\n"
   ]
  },
  {
   "cell_type": "markdown",
   "id": "75a1731a",
   "metadata": {},
   "source": [
    "\n",
    "## **Pregunta 2**\n",
    "\n",
    "Sea $\\mathbf{X} = (X_1, X_2, X_3)'$ un vector aleatorio con distribución normal de media\n",
    "\n",
    "$$\n",
    "\\mu = \\begin{pmatrix} 2 \\\\ 0 \\\\ 1 \\end{pmatrix}, \\quad\n",
    "\\Sigma = \\begin{pmatrix}\n",
    "4 & 1 & 2 \\\\\n",
    "1 & 3 & 0 \\\\\n",
    "2 & 0 & 5\n",
    "\\end{pmatrix}\n",
    "$$\n",
    "\n",
    "**a)** Encontrar la ley de la variable aleatoria $Y = 2X_1 - X_2 + X_3$  \n",
    "**b)** Encontrar un vector $\\mathbf{a} \\in \\mathbb{R}^{2 \\times 1}$ tal que la variable aleatoria  \n",
    "$X_1 - \\mathbf{a}'(X_2, X_3)'$ sea independiente de $(X_2, X_3)'$  \n",
    "**c)** Calcular la distribución de $X_1$ condicionada a $(X_2, X_3)' = (x_2^0, x_3^0)'$\n",
    "\n",
    "---\n",
    "\n",
    "\n"
   ]
  },
  {
   "cell_type": "markdown",
   "id": "25d3e660",
   "metadata": {},
   "source": [
    "## **Desarrollo Pregunta 2 – Distribución Normal Multivariada**\n",
    "\n",
    "---\n",
    "\n",
    "## Contexto del Problema\n",
    "\n",
    "Sea $\\mathbf{X}$ un vector aleatorio que sigue una distribución normal multivariada con las siguientes características:\n",
    "\n",
    "$$\\mathbf{X} = \\begin{pmatrix} X_1 \\\\ X_2 \\\\ X_3 \\end{pmatrix} \\sim N\\left( \\mu = \\begin{pmatrix} 2 \\\\ 0 \\\\ 1 \\end{pmatrix}, \\Sigma = \\begin{pmatrix} 4 & 1 & 2 \\\\ 1 & 3 & 0 \\\\ 2 & 0 & 5 \\end{pmatrix} \\right)$$\n",
    "\n",
    "---\n",
    "\n",
    "### a) Ley de $Y = 2X_1 - X_2 + X_3$\n",
    "\n",
    "Dado que $Y$ es una combinación lineal de variables con distribución normal, $Y$ también seguirá una distribución normal.\n",
    "\n",
    "* **Media de $Y$ ($\\mu_Y$):**\n",
    "    Se calcula aplicando la misma combinación lineal a las medias de $X_i$:\n",
    "    $$\n",
    "    \\mu_Y = 2 \\cdot \\mu_{X_1} - \\mu_{X_2} + \\mu_{X_3} = 2 \\cdot 2 - 0 + 1 = 5\n",
    "    $$\n",
    "\n",
    "* **Varianza de $Y$ ($\\sigma_Y^2$):**\n",
    "    La varianza se calcula usando la fórmula $\\mathbf{a}' \\Sigma \\mathbf{a}$, donde $\\mathbf{a}$ es el vector de coeficientes de la combinación lineal, $\\mathbf{a} = (2, -1, 1)'$:\n",
    "    $$\n",
    "    \\sigma_Y^2 = (2, -1, 1) \\begin{pmatrix} 4 & 1 & 2 \\\\ 1 & 3 & 0 \\\\ 2 & 0 & 5 \\end{pmatrix} \\begin{pmatrix} 2 \\\\ -1 \\\\ 1 \\end{pmatrix} = 28\n",
    "    $$\n",
    "\n",
    "**Resultado:**\n",
    "La variable aleatoria $Y$ sigue una distribución normal con media 5 y varianza 28.\n",
    "$$Y \\sim \\mathcal{N}(5, 28)$$\n",
    "\n",
    "---\n",
    "\n",
    "### b) Encontrar $\\mathbf{a}$ para Independencia\n",
    "\n",
    "Buscamos un vector $\\mathbf{a}$ tal que la expresión $X_1 - \\mathbf{a}'(X_2, X_3)'$ sea independiente de $(X_2, X_3)'$. Para una distribución normal multivariada, esto se logra cuando:\n",
    "\n",
    "$$\\mathbf{a}' = \\Sigma_{12} \\Sigma_{22}^{-1}$$\n",
    "\n",
    "Donde $\\Sigma_{12}$ es la submatriz de covarianza entre $X_1$ y $(X_2, X_3)$, y $\\Sigma_{22}$ es la matriz de covarianza de $(X_2, X_3)$.\n",
    "\n",
    "A partir de la matriz de covarianza $\\Sigma$:\n",
    "$$\\Sigma_{12} = \\begin{pmatrix} 1 & 2 \\end{pmatrix}$$\n",
    "$$\\Sigma_{22} = \\begin{pmatrix} 3 & 0 \\\\ 0 & 5 \\end{pmatrix}$$\n",
    "\n",
    "Calculamos la inversa de $\\Sigma_{22}$:\n",
    "$$\\Sigma_{22}^{-1} = \\begin{pmatrix} 1/3 & 0 \\\\ 0 & 1/5 \\end{pmatrix}$$\n",
    "\n",
    "Finalmente, calculamos $\\mathbf{a}'$:\n",
    "$$\\mathbf{a}' = \\begin{pmatrix} 1 & 2 \\end{pmatrix} \\begin{pmatrix} 1/3 & 0 \\\\ 0 & 1/5 \\end{pmatrix} = \\left( \\frac{1}{3}, \\frac{2}{5} \\right)$$\n",
    "\n",
    "---\n",
    "\n",
    "### c) Distribución Condicional de $X_1 | (X_2, X_3) = (x_2^0, x_3^0)$\n",
    "\n",
    "Para una distribución normal multivariada, la distribución condicional de una variable dada las otras es también una distribución normal.\n",
    "\n",
    "* **Media Condicional ($\\mathbb{E}[X_1 \\mid X_2, X_3]$):**\n",
    "    $$\n",
    "    \\mathbb{E}[X_1 \\mid X_2, X_3] = \\mu_1 + \\Sigma_{12} \\Sigma_{22}^{-1} (\\mathbf{x}_{23}^0 - \\mu_{23})\n",
    "    $$\n",
    "    Sustituyendo los valores conocidos:\n",
    "    $$\n",
    "    \\mathbb{E}[X_1 \\mid X_2, X_3] = 2 + \\left( \\frac{1}{3}, \\frac{2}{5} \\right) \\begin{pmatrix} x_2^0 - 0 \\\\ x_3^0 - 1 \\end{pmatrix} = 2 + \\frac{1}{3}(x_2^0 - 0) + \\frac{2}{5}(x_3^0 - 1)\n",
    "    $$\n",
    "\n",
    "* **Varianza Condicional ($\\text{Var}(X_1 \\mid X_2, X_3)$):**\n",
    "    $$\n",
    "    \\text{Var}(X_1 \\mid X_2, X_3) = \\Sigma_{11} - \\Sigma_{12} \\Sigma_{22}^{-1} \\Sigma_{21}\n",
    "    $$\n",
    "    Donde $\\Sigma_{11}$ es la varianza de $X_1$, y $\\Sigma_{21} = \\Sigma_{12}'$.\n",
    "    $$\n",
    "    \\text{Var}(X_1 \\mid X_2, X_3) = 4 - \\left( \\frac{1}{3} \\cdot 1 + \\frac{2}{5} \\cdot 2 \\right) = 4 - \\left( \\frac{1}{3} + \\frac{4}{5} \\right) = 4 - \\left( \\frac{5+12}{15} \\right) = 4 - \\frac{17}{15} = \\frac{60-17}{15} = \\frac{43}{15} \\approx 2.867\n",
    "    $$\n",
    "\n",
    "---\n"
   ]
  },
  {
   "cell_type": "markdown",
   "id": "84555563",
   "metadata": {},
   "source": [
    "## **Pregunta 3**\n",
    "\n",
    "Se generan dos muestras aleatorias de tamaño $n_1 = 120$ y $n_2 = 140$, correspondientes a trabajadores de jornada completa y jornada parcial, respectivamente. Se asume que las muestras provienen de distribuciones normales trivariadas:\n",
    "\n",
    "$$\n",
    "X_1 \\sim N_3(\\mu_1, \\Sigma), \\quad X_2 \\sim N_3(\\mu_2, \\Sigma)\n",
    "$$\n",
    "\n",
    "Con:\n",
    "\n",
    "$$\n",
    "\\mu_1 = \\begin{pmatrix} 70 \\\\ 65 \\\\ 80 \\end{pmatrix}, \\quad\n",
    "\\mu_2 = \\begin{pmatrix} 72 \\\\ 63 \\\\ 79 \\end{pmatrix}, \\quad\n",
    "\\Sigma = \\begin{pmatrix}\n",
    "16 & 4 & 2 \\\\\n",
    "4 & 9 & 3 \\\\\n",
    "2 & 3 & 25\n",
    "\\end{pmatrix}\n",
    "$$\n",
    "\n",
    "**a)** Obtener los vectores de medias y matrices de covarianzas muestrales.  \n",
    "**b)** Contrastar la hipótesis $H_0: \\mu_1 = \\begin{pmatrix} 70 \\\\ 65 \\\\ 80 \\end{pmatrix}$ vs. $H_1: \\mu_1 \\neq \\begin{pmatrix} 70 \\\\ 65 \\\\ 80 \\end{pmatrix}$  \n",
    "**c)** Contrastar $H_0: \\mu_1 = \\mu_2$ vs. $H_1: \\mu_1 \\neq \\mu_2$ mediante:  \n",
    "\n",
    "- Prueba $T^2$ de Hotelling\n",
    "\n",
    "---"
   ]
  },
  {
   "cell_type": "markdown",
   "id": "520489b6",
   "metadata": {},
   "source": [
    "\n",
    "### **Desarrollo Pregunta 3 – Comparación de Dos Grupos Multivariados**\n",
    "\n",
    "---\n",
    "\n",
    "## Contexto del Problema\n",
    "\n",
    "Se tienen dos muestras independientes, que representan dos grupos distintos, ambos siguiendo una distribución normal multivariada de dimensión 3.\n",
    "\n",
    "* **Muestra 1 (Jornada Completa):**\n",
    "    * Tamaño: $n_1 = 120$\n",
    "    * Distribución: $X_1 \\sim \\mathcal{N}_3(\\mu_1, \\Sigma)$\n",
    "\n",
    "* **Muestra 2 (Jornada Parcial):**\n",
    "    * Tamaño: $n_2 = 140$\n",
    "    * Distribución: $X_2 \\sim \\mathcal{N}_3(\\mu_2, \\Sigma)$\n",
    "\n",
    "Las medias y la matriz de covarianza poblacionales son:\n",
    "$$\\mu_1 = \\begin{pmatrix} 70 \\\\ 65 \\\\ 80 \\end{pmatrix}, \\quad \\mu_2 = \\begin{pmatrix} 72 \\\\ 63 \\\\ 79 \\end{pmatrix}, \\quad \\Sigma = \\begin{pmatrix} 16 & 4 & 2 \\\\ 4 & 9 & 3 \\\\ 2 & 3 & 25 \\end{pmatrix}$$\n",
    "\n",
    "---\n",
    "\n",
    "### a) Medias y Matrices de Covarianzas Muestrales\n",
    "\n",
    "Dado que los valores proporcionados son los **poblacionales** para las medias y la matriz de covarianza, y se asume que las muestras provienen de estas poblaciones:\n",
    "\n",
    "* **Medias Muestrales:** Se asume que las medias muestrales son iguales a las medias poblacionales.\n",
    "    * $\\bar{X}_1 = \\mu_1$\n",
    "    * $\\bar{X}_2 = \\mu_2$\n",
    "\n",
    "* **Matrices de Covarianzas Muestrales:** Se asume que las matrices de covarianza muestrales son iguales a la matriz de covarianza poblacional (común para ambos grupos).\n",
    "    * $S_1 = S_2 = \\Sigma$\n",
    "\n",
    "---\n",
    "\n",
    "### b) Contraste de Hipótesis $H_0: \\mu_1 = (70, 65, 80)'$\n",
    "\n",
    "Este contraste evalúa si la media poblacional del grupo 1 es igual a un vector de valores específicos. Se utiliza el estadístico $T^2$ de Hotelling.\n",
    "\n",
    "* **Hipótesis Nula ($H_0$):** $\\mu_1 = \\mu_0 = (70, 65, 80)'$\n",
    "* **Hipótesis Alternativa ($H_1$):** $\\mu_1 \\neq (70, 65, 80)'$\n",
    "\n",
    "El estadístico $T^2$ se calcula como:\n",
    "$$T^2 = n_1 (\\bar{X}_1 - \\mu_0)' \\Sigma^{-1} (\\bar{X}_1 - \\mu_0)$$\n",
    "\n",
    "Dado que se nos proporciona que $\\bar{X}_1 = \\mu_1 = (70, 65, 80)'$ y $\\mu_0 = (70, 65, 80)'$, entonces $(\\bar{X}_1 - \\mu_0)$ será un vector de ceros.\n",
    "$$T^2 = 120 \\cdot \\begin{pmatrix} 0 \\\\ 0 \\\\ 0 \\end{pmatrix}' \\Sigma^{-1} \\begin{pmatrix} 0 \\\\ 0 \\\\ 0 \\end{pmatrix} = 0$$\n",
    "\n",
    "**Conclusión:**\n",
    "Como $T^2 = 0$, no hay diferencia entre la media muestral observada (que es igual a la poblacional proporcionada) y la media teórica bajo la hipótesis nula. Por lo tanto, **no se rechaza la hipótesis nula ($H_0$)**.\n",
    "\n",
    "---\n",
    "\n",
    "### c) Contraste $H_0: \\mu_1 = \\mu_2$ usando Hotelling $T^2$\n",
    "\n",
    "Este contraste evalúa si las medias poblacionales de los dos grupos son iguales.\n",
    "\n",
    "* **Hipótesis Nula ($H_0$):** $\\mu_1 = \\mu_2$ (no hay diferencia entre las medias multivariadas)\n",
    "* **Hipótesis Alternativa ($H_1$):** $\\mu_1 \\neq \\mu_2$ (hay diferencia entre las medias multivariadas)\n",
    "\n",
    "* **Diferencia de Medias ($\\mu_1 - \\mu_2$):**\n",
    "    $$\n",
    "    \\mu_1 - \\mu_2 = \\begin{pmatrix} 70 \\\\ 65 \\\\ 80 \\end{pmatrix} - \\begin{pmatrix} 72 \\\\ 63 \\\\ 79 \\end{pmatrix} = \\begin{pmatrix} -2 \\\\ 2 \\\\ 1 \\end{pmatrix}\n",
    "    $$\n",
    "\n",
    "* **Cálculo del Estadístico $T^2$:**\n",
    "    Para dos muestras, el estadístico $T^2$ de Hotelling se calcula como:\n",
    "    $$\n",
    "    T^2 = \\frac{n_1 n_2}{n_1 + n_2} (\\bar{X}_1 - \\bar{X}_2)' S_p^{-1} (\\bar{X}_1 - \\bar{X}_2)\n",
    "    $$\n",
    "    En este caso, como $S_1 = S_2 = \\Sigma$, la matriz de covarianza común $S_p$ es simplemente $\\Sigma$.\n"
   ]
  },
  {
   "cell_type": "code",
   "execution_count": 107,
   "id": "d563df05",
   "metadata": {},
   "outputs": [
    {
     "name": "stdout",
     "output_type": "stream",
     "text": [
      "El estadístico T^2 es: 67.2270\n"
     ]
    }
   ],
   "source": [
    "import numpy as np\n",
    "\n",
    "# Definición de las diferencias de medias y la matriz de covarianza\n",
    "mu_diff = np.array([-2, 2, 1])\n",
    "Sigma = np.array([[16, 4, 2],\n",
    "                  [4, 9, 3],\n",
    "                  [2, 3, 25]])\n",
    "\n",
    "# Calcular la inversa de Sigma\n",
    "inv_Sigma = np.linalg.inv(Sigma)\n",
    "\n",
    "# Tamaños de las muestras\n",
    "n1 = 120\n",
    "n2 = 140\n",
    "\n",
    "# Calcular el estadístico T^2\n",
    "T2 = (n1 * n2) / (n1 + n2) * mu_diff @ inv_Sigma @ mu_diff\n",
    "print(f\"El estadístico T^2 es: {T2:.4f}\")"
   ]
  }
 ],
 "metadata": {
  "kernelspec": {
   "display_name": "Python 3",
   "language": "python",
   "name": "python3"
  },
  "language_info": {
   "codemirror_mode": {
    "name": "ipython",
    "version": 3
   },
   "file_extension": ".py",
   "mimetype": "text/x-python",
   "name": "python",
   "nbconvert_exporter": "python",
   "pygments_lexer": "ipython3",
   "version": "3.12.1"
  }
 },
 "nbformat": 4,
 "nbformat_minor": 5
}
